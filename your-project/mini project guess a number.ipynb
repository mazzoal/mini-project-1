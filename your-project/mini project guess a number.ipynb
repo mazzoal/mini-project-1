{
 "cells": [
  {
   "cell_type": "code",
   "execution_count": 6,
   "metadata": {},
   "outputs": [],
   "source": [
    "#guess a number game\n",
    "\n",
    "#in this game a randome number between 1 and 100 will be chossen by the computer, the role of the player is to guess this number. \n",
    "#the player will have a limited amoun of tryal to guess the number. \n",
    "#after each tryal the game will informe the player if the nuber he chose was higher or lower than the number of the computer. if the player manage to find the number he win the game. \n",
    "#if after all the trials the player could not guess the number he loss.\n"
   ]
  },
  {
   "cell_type": "code",
   "execution_count": 4,
   "metadata": {},
   "outputs": [
    {
     "name": "stdout",
     "output_type": "stream",
     "text": [
      "Hello you, do you want to play a game?\n",
      "you just have to guess my number!\n",
      "my number is between 1 and 100\n",
      "how many chance do you want to have?1\n",
      "So you will have 1 guess\n",
      "Enter your number!56.8\n",
      "Your number is  57\n",
      "my number is lower, try again\n",
      "Nope do not try again you lost. The number of the computer was 23\n"
     ]
    }
   ],
   "source": [
    "import random\n",
    "\n",
    "# create a randome number\n",
    "number = random.randint(1,101)\n",
    "\n",
    "print('Hello you, do you want to play a game?')\n",
    "print('you just have to guess my number!')\n",
    "print('my number is between 1 and 100')\n",
    "\n",
    "#let the player choose how many round he want to play\n",
    "round_play = input('how many chance do you want to have?')\n",
    "round_play = int(round_play)\n",
    "\n",
    "print('So you will have', round_play, 'guess')\n",
    "\n",
    "# create the rule of the game and the hint for the next guess, is the computer number higher or lower?\n",
    "guessplay = 0\n",
    "\n",
    "while guessplay<round_play:\n",
    "    guess = input (\"Enter your number!\")\n",
    "    guess = float(guess)\n",
    "    guess =round(guess)\n",
    "    print('Your number is ', guess)\n",
    "    guess = int(guess)\n",
    "        \n",
    "    guessplay += 1\n",
    "    \n",
    "    if guess < number:\n",
    "        print('my number is higher, try again')\n",
    "    if guess > number:\n",
    "        print('my number is lower, try again')\n",
    "    if guess == number:\n",
    "        print('you won the game!!!')\n",
    "        break\n",
    "\n",
    "#print the result of the game\n",
    "if guess == number:\n",
    "    guessplay = str(guessplay)\n",
    "    print('Good job! ', 'You found the number in ' + guessplay + ' guesses!')\n",
    "if guess != number:\n",
    "    number = str(number)\n",
    "    print('Nope do not try again you lost. The number of the computer was ' + number)"
   ]
  },
  {
   "cell_type": "code",
   "execution_count": 3,
   "metadata": {},
   "outputs": [
    {
     "name": "stdout",
     "output_type": "stream",
     "text": [
      "Hello you, do you want to play a game?\n",
      "you just have to guess my number!\n",
      "my number is between 1 and 100\n",
      "how many chance do you want to have?1\n",
      "So you will have 1 guess\n",
      "Enter your number!67.9\n",
      "Your number is  68\n",
      "my number is lower, try again\n",
      "Nope do not try again you lost. The number of the computer was 66\n"
     ]
    }
   ],
   "source": [
    "import random\n",
    "\n",
    "# create a randome number\n",
    "number = random.randint(1,101)\n",
    "\n",
    "print('Hello you, do you want to play a game?')\n",
    "print('you just have to guess my number!')\n",
    "print('my number is between 1 and 100')\n",
    "\n",
    "#let the player choose how many round he want to play\n",
    "round_play = input('how many chance do you want to have?')\n",
    "round_play = int(round_play)\n",
    "\n",
    "print('So you will have', round_play, 'guess')\n",
    "\n",
    "# create the rule of the game and the hint for the next guess, is the computer number higher or lower?\n",
    "guessplay = 0\n",
    "\n",
    "while guessplay<round_play:\n",
    "    guess = input (\"Enter your number!\")\n",
    "    guess = float(guess)\n",
    "    guess =round(guess)\n",
    "    print('Your number is ', guess)\n",
    "    guess = int(guess)\n",
    "        \n",
    "    guessplay += 1\n",
    "    \n",
    "    if guess < number:\n",
    "        print('my number is higher, try again')\n",
    "    if guess > number:\n",
    "        print('my number is lower, try again')\n",
    "    if guess == number:\n",
    "        print('you won the game!!!')\n",
    "        break\n",
    "\n",
    "#print the result of the game\n",
    "if guess == number:\n",
    "    guessplay = str(guessplay)\n",
    "    print('Good job! ', 'You found the number in ' + guessplay + ' guesses!')\n",
    "if guess != number:\n",
    "    number = str(number)\n",
    "    print('Nope do not try again you lost. The number of the computer was ' + number)"
   ]
  },
  {
   "cell_type": "code",
   "execution_count": null,
   "metadata": {},
   "outputs": [],
   "source": []
  }
 ],
 "metadata": {
  "kernelspec": {
   "display_name": "Python 3",
   "language": "python",
   "name": "python3"
  },
  "language_info": {
   "codemirror_mode": {
    "name": "ipython",
    "version": 3
   },
   "file_extension": ".py",
   "mimetype": "text/x-python",
   "name": "python",
   "nbconvert_exporter": "python",
   "pygments_lexer": "ipython3",
   "version": "3.7.4"
  }
 },
 "nbformat": 4,
 "nbformat_minor": 2
}
